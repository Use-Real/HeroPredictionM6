{
 "cells": [
  {
   "cell_type": "markdown",
   "metadata": {},
   "source": [
    "## Importing Pacakages and Library"
   ]
  },
  {
   "cell_type": "code",
   "execution_count": 15,
   "metadata": {
    "execution": {
     "iopub.execute_input": "2024-01-04T14:18:52.435561Z",
     "iopub.status.busy": "2024-01-04T14:18:52.435074Z",
     "iopub.status.idle": "2024-01-04T14:18:52.442538Z",
     "shell.execute_reply": "2024-01-04T14:18:52.440792Z",
     "shell.execute_reply.started": "2024-01-04T14:18:52.435523Z"
    },
    "trusted": true
   },
   "outputs": [],
   "source": [
    "import pandas as pd\n",
    "import matplotlib.pyplot as plt\n",
    "import plotly.express as px"
   ]
  },
  {
   "cell_type": "markdown",
   "metadata": {},
   "source": [
    "## Data Wrangling"
   ]
  },
  {
   "cell_type": "markdown",
   "metadata": {},
   "source": [
    "### Gathering Data"
   ]
  },
  {
   "cell_type": "code",
   "execution_count": 16,
   "metadata": {
    "execution": {
     "iopub.execute_input": "2024-01-04T14:18:52.45473Z",
     "iopub.status.busy": "2024-01-04T14:18:52.453645Z",
     "iopub.status.idle": "2024-01-04T14:18:52.493655Z",
     "shell.execute_reply": "2024-01-04T14:18:52.492153Z",
     "shell.execute_reply.started": "2024-01-04T14:18:52.454682Z"
    },
    "trusted": true
   },
   "outputs": [
    {
     "data": {
      "text/html": [
       "<div>\n",
       "<style scoped>\n",
       "    .dataframe tbody tr th:only-of-type {\n",
       "        vertical-align: middle;\n",
       "    }\n",
       "\n",
       "    .dataframe tbody tr th {\n",
       "        vertical-align: top;\n",
       "    }\n",
       "\n",
       "    .dataframe thead th {\n",
       "        text-align: right;\n",
       "    }\n",
       "</style>\n",
       "<table border=\"1\" class=\"dataframe\">\n",
       "  <thead>\n",
       "    <tr style=\"text-align: right;\">\n",
       "      <th></th>\n",
       "      <th>Index</th>\n",
       "      <th>Hero</th>\n",
       "      <th>T_Picked</th>\n",
       "      <th>T_Wins</th>\n",
       "      <th>T_Loses</th>\n",
       "      <th>T_WinRate</th>\n",
       "      <th>T_PickPercentage</th>\n",
       "      <th>BS_Picked</th>\n",
       "      <th>BS_Wins</th>\n",
       "      <th>BS_Loses</th>\n",
       "      <th>...</th>\n",
       "      <th>RS_Loses</th>\n",
       "      <th>RS_WinRate</th>\n",
       "      <th>T_Banned</th>\n",
       "      <th>T_BansPercentage</th>\n",
       "      <th>T_PicksBans</th>\n",
       "      <th>T_PicksBansPercentage</th>\n",
       "      <th>Played By</th>\n",
       "      <th>Played With</th>\n",
       "      <th>Played Vs.</th>\n",
       "      <th>Roles</th>\n",
       "    </tr>\n",
       "  </thead>\n",
       "  <tbody>\n",
       "    <tr>\n",
       "      <th>0</th>\n",
       "      <td>1</td>\n",
       "      <td>Valentina</td>\n",
       "      <td>727</td>\n",
       "      <td>334</td>\n",
       "      <td>393</td>\n",
       "      <td>45.94%</td>\n",
       "      <td>52.00%</td>\n",
       "      <td>348</td>\n",
       "      <td>157</td>\n",
       "      <td>191</td>\n",
       "      <td>...</td>\n",
       "      <td>202</td>\n",
       "      <td>46.70%</td>\n",
       "      <td>484</td>\n",
       "      <td>34.62%</td>\n",
       "      <td>1211</td>\n",
       "      <td>86.62%</td>\n",
       "      <td>19 (11-8)19 (10-9)19 (10-9)19 (7-12)17 (8-9)</td>\n",
       "      <td>164 (83-81) 162 (79-83) 140 (71-69) 121 (58-6...</td>\n",
       "      <td>218 (85-133) 178 (68-110) 174 (77-97) 173 (82...</td>\n",
       "      <td>Mage</td>\n",
       "    </tr>\n",
       "    <tr>\n",
       "      <th>1</th>\n",
       "      <td>2</td>\n",
       "      <td>Fredrinn</td>\n",
       "      <td>726</td>\n",
       "      <td>383</td>\n",
       "      <td>343</td>\n",
       "      <td>52.75%</td>\n",
       "      <td>51.93%</td>\n",
       "      <td>361</td>\n",
       "      <td>184</td>\n",
       "      <td>177</td>\n",
       "      <td>...</td>\n",
       "      <td>166</td>\n",
       "      <td>54.52%</td>\n",
       "      <td>475</td>\n",
       "      <td>33.98%</td>\n",
       "      <td>1201</td>\n",
       "      <td>85.91%</td>\n",
       "      <td>21 (15-6)18 (14-4)18 (12-6)18 (9-9)17 (10-7)</td>\n",
       "      <td>164 (83-81) 131 (81-50) 126 (69-57) 122 (69-5...</td>\n",
       "      <td>218 (133-85) 190 (106-84) 185 (79-106) 173 (8...</td>\n",
       "      <td>Support</td>\n",
       "    </tr>\n",
       "    <tr>\n",
       "      <th>2</th>\n",
       "      <td>3</td>\n",
       "      <td>Terizla</td>\n",
       "      <td>620</td>\n",
       "      <td>348</td>\n",
       "      <td>272</td>\n",
       "      <td>56.13%</td>\n",
       "      <td>44.35%</td>\n",
       "      <td>291</td>\n",
       "      <td>168</td>\n",
       "      <td>123</td>\n",
       "      <td>...</td>\n",
       "      <td>149</td>\n",
       "      <td>54.71%</td>\n",
       "      <td>435</td>\n",
       "      <td>31.12%</td>\n",
       "      <td>1055</td>\n",
       "      <td>75.46%</td>\n",
       "      <td>22 (12-10)18 (10-8)15 (9-6)14 (10-4)14 (8-6)</td>\n",
       "      <td>162 (79-83) 114 (76-38) 108 (56-52) 105 (49-5...</td>\n",
       "      <td>185 (106-79) 178 (110-68) 132 (70-62) 119 (65...</td>\n",
       "      <td>Fighter</td>\n",
       "    </tr>\n",
       "    <tr>\n",
       "      <th>3</th>\n",
       "      <td>4</td>\n",
       "      <td>Edith</td>\n",
       "      <td>527</td>\n",
       "      <td>265</td>\n",
       "      <td>262</td>\n",
       "      <td>50.28%</td>\n",
       "      <td>37.70%</td>\n",
       "      <td>258</td>\n",
       "      <td>125</td>\n",
       "      <td>133</td>\n",
       "      <td>...</td>\n",
       "      <td>129</td>\n",
       "      <td>52.04%</td>\n",
       "      <td>477</td>\n",
       "      <td>34.12%</td>\n",
       "      <td>1004</td>\n",
       "      <td>71.82%</td>\n",
       "      <td>14 (9-5)14 (9-5)14 (6-8)13 (10-3)13 (9-4)</td>\n",
       "      <td>122 (69-53) 112 (48-64) 109 (55-54) 100 (42-5...</td>\n",
       "      <td>174 (97-77) 147 (76-71) 132 (62-70) 108 (51-5...</td>\n",
       "      <td>Tank</td>\n",
       "    </tr>\n",
       "    <tr>\n",
       "      <th>4</th>\n",
       "      <td>5</td>\n",
       "      <td>Irithel</td>\n",
       "      <td>502</td>\n",
       "      <td>255</td>\n",
       "      <td>247</td>\n",
       "      <td>50.80%</td>\n",
       "      <td>35.91%</td>\n",
       "      <td>245</td>\n",
       "      <td>129</td>\n",
       "      <td>116</td>\n",
       "      <td>...</td>\n",
       "      <td>131</td>\n",
       "      <td>49.03%</td>\n",
       "      <td>208</td>\n",
       "      <td>14.88%</td>\n",
       "      <td>710</td>\n",
       "      <td>50.79%</td>\n",
       "      <td>16 (8-8)15 (10-5)15 (10-5)12 (7-5)12 (7-5)</td>\n",
       "      <td>140 (71-69) 126 (69-57) 108 (56-52) 100 (42-5...</td>\n",
       "      <td>145 (73-72) 132 (60-72) 120 (68-52) 110 (47-6...</td>\n",
       "      <td>Marksman</td>\n",
       "    </tr>\n",
       "  </tbody>\n",
       "</table>\n",
       "<p>5 rows × 23 columns</p>\n",
       "</div>"
      ],
      "text/plain": [
       "   Index        Hero  T_Picked  T_Wins  T_Loses T_WinRate T_PickPercentage  \\\n",
       "0      1   Valentina       727     334      393    45.94%           52.00%   \n",
       "1      2    Fredrinn       726     383      343    52.75%           51.93%   \n",
       "2      3     Terizla       620     348      272    56.13%           44.35%   \n",
       "3      4       Edith       527     265      262    50.28%           37.70%   \n",
       "4      5     Irithel       502     255      247    50.80%           35.91%   \n",
       "\n",
       "   BS_Picked  BS_Wins  BS_Loses  ... RS_Loses  RS_WinRate  T_Banned  \\\n",
       "0        348      157       191  ...      202      46.70%       484   \n",
       "1        361      184       177  ...      166      54.52%       475   \n",
       "2        291      168       123  ...      149      54.71%       435   \n",
       "3        258      125       133  ...      129      52.04%       477   \n",
       "4        245      129       116  ...      131      49.03%       208   \n",
       "\n",
       "   T_BansPercentage T_PicksBans  T_PicksBansPercentage  \\\n",
       "0            34.62%        1211                 86.62%   \n",
       "1            33.98%        1201                 85.91%   \n",
       "2            31.12%        1055                 75.46%   \n",
       "3            34.12%        1004                 71.82%   \n",
       "4            14.88%         710                 50.79%   \n",
       "\n",
       "                                      Played By  \\\n",
       "0  19 (11-8)19 (10-9)19 (10-9)19 (7-12)17 (8-9)   \n",
       "1  21 (15-6)18 (14-4)18 (12-6)18 (9-9)17 (10-7)   \n",
       "2  22 (12-10)18 (10-8)15 (9-6)14 (10-4)14 (8-6)   \n",
       "3     14 (9-5)14 (9-5)14 (6-8)13 (10-3)13 (9-4)   \n",
       "4    16 (8-8)15 (10-5)15 (10-5)12 (7-5)12 (7-5)   \n",
       "\n",
       "                                         Played With  \\\n",
       "0   164 (83-81) 162 (79-83) 140 (71-69) 121 (58-6...   \n",
       "1   164 (83-81) 131 (81-50) 126 (69-57) 122 (69-5...   \n",
       "2   162 (79-83) 114 (76-38) 108 (56-52) 105 (49-5...   \n",
       "3   122 (69-53) 112 (48-64) 109 (55-54) 100 (42-5...   \n",
       "4   140 (71-69) 126 (69-57) 108 (56-52) 100 (42-5...   \n",
       "\n",
       "                                          Played Vs.     Roles  \n",
       "0   218 (85-133) 178 (68-110) 174 (77-97) 173 (82...      Mage  \n",
       "1   218 (133-85) 190 (106-84) 185 (79-106) 173 (8...   Support  \n",
       "2   185 (106-79) 178 (110-68) 132 (70-62) 119 (65...   Fighter  \n",
       "3   174 (97-77) 147 (76-71) 132 (62-70) 108 (51-5...      Tank  \n",
       "4   145 (73-72) 132 (60-72) 120 (68-52) 110 (47-6...  Marksman  \n",
       "\n",
       "[5 rows x 23 columns]"
      ]
     },
     "execution_count": 16,
     "metadata": {},
     "output_type": "execute_result"
    }
   ],
   "source": [
    "df = pd.read_csv('../data/M5_World_Championship.csv')\n",
    "df.head()"
   ]
  },
  {
   "cell_type": "markdown",
   "metadata": {},
   "source": [
    "### Assessing Data"
   ]
  },
  {
   "cell_type": "code",
   "execution_count": 17,
   "metadata": {
    "execution": {
     "iopub.execute_input": "2024-01-04T14:18:52.497291Z",
     "iopub.status.busy": "2024-01-04T14:18:52.496714Z",
     "iopub.status.idle": "2024-01-04T14:18:52.515161Z",
     "shell.execute_reply": "2024-01-04T14:18:52.513625Z",
     "shell.execute_reply.started": "2024-01-04T14:18:52.49724Z"
    },
    "trusted": true
   },
   "outputs": [
    {
     "name": "stdout",
     "output_type": "stream",
     "text": [
      "<class 'pandas.core.frame.DataFrame'>\n",
      "RangeIndex: 115 entries, 0 to 114\n",
      "Data columns (total 23 columns):\n",
      " #   Column                 Non-Null Count  Dtype \n",
      "---  ------                 --------------  ----- \n",
      " 0   Index                  115 non-null    int64 \n",
      " 1   Hero                   115 non-null    object\n",
      " 2   T_Picked               115 non-null    int64 \n",
      " 3   T_Wins                 115 non-null    int64 \n",
      " 4   T_Loses                115 non-null    int64 \n",
      " 5   T_WinRate              115 non-null    object\n",
      " 6   T_PickPercentage       115 non-null    object\n",
      " 7   BS_Picked              115 non-null    int64 \n",
      " 8   BS_Wins                115 non-null    int64 \n",
      " 9   BS_Loses               115 non-null    int64 \n",
      " 10  BS_WinRate             115 non-null    object\n",
      " 11  RS_Picked              115 non-null    int64 \n",
      " 12  RS_Wins                115 non-null    int64 \n",
      " 13  RS_Loses               115 non-null    int64 \n",
      " 14  RS_WinRate             115 non-null    object\n",
      " 15  T_Banned               115 non-null    int64 \n",
      " 16  T_BansPercentage       115 non-null    object\n",
      " 17  T_PicksBans            115 non-null    int64 \n",
      " 18  T_PicksBansPercentage  115 non-null    object\n",
      " 19  Played By              115 non-null    object\n",
      " 20  Played With            115 non-null    object\n",
      " 21  Played Vs.             115 non-null    object\n",
      " 22  Roles                  115 non-null    object\n",
      "dtypes: int64(12), object(11)\n",
      "memory usage: 20.8+ KB\n"
     ]
    }
   ],
   "source": [
    "df.info()"
   ]
  },
  {
   "cell_type": "code",
   "execution_count": 18,
   "metadata": {
    "execution": {
     "iopub.execute_input": "2024-01-04T14:18:52.518479Z",
     "iopub.status.busy": "2024-01-04T14:18:52.517224Z",
     "iopub.status.idle": "2024-01-04T14:18:52.530989Z",
     "shell.execute_reply": "2024-01-04T14:18:52.529399Z",
     "shell.execute_reply.started": "2024-01-04T14:18:52.518423Z"
    },
    "trusted": true
   },
   "outputs": [
    {
     "data": {
      "text/plain": [
       "Index                    0\n",
       "Hero                     0\n",
       "T_Picked                 0\n",
       "T_Wins                   0\n",
       "T_Loses                  0\n",
       "T_WinRate                0\n",
       "T_PickPercentage         0\n",
       "BS_Picked                0\n",
       "BS_Wins                  0\n",
       "BS_Loses                 0\n",
       "BS_WinRate               0\n",
       "RS_Picked                0\n",
       "RS_Wins                  0\n",
       "RS_Loses                 0\n",
       "RS_WinRate               0\n",
       "T_Banned                 0\n",
       "T_BansPercentage         0\n",
       "T_PicksBans              0\n",
       "T_PicksBansPercentage    0\n",
       "Played By                0\n",
       "Played With              0\n",
       "Played Vs.               0\n",
       "Roles                    0\n",
       "dtype: int64"
      ]
     },
     "execution_count": 18,
     "metadata": {},
     "output_type": "execute_result"
    }
   ],
   "source": [
    "df.isna().sum()"
   ]
  },
  {
   "cell_type": "code",
   "execution_count": 19,
   "metadata": {
    "execution": {
     "iopub.execute_input": "2024-01-04T14:18:52.533527Z",
     "iopub.status.busy": "2024-01-04T14:18:52.532997Z",
     "iopub.status.idle": "2024-01-04T14:18:52.546677Z",
     "shell.execute_reply": "2024-01-04T14:18:52.545071Z",
     "shell.execute_reply.started": "2024-01-04T14:18:52.533479Z"
    },
    "trusted": true
   },
   "outputs": [
    {
     "name": "stdout",
     "output_type": "stream",
     "text": [
      "Total Duplication:  0\n"
     ]
    }
   ],
   "source": [
    "print(\"Total Duplication: \", df.duplicated().sum())"
   ]
  },
  {
   "cell_type": "markdown",
   "metadata": {},
   "source": [
    "### Data Cleaning"
   ]
  },
  {
   "cell_type": "code",
   "execution_count": 20,
   "metadata": {
    "execution": {
     "iopub.execute_input": "2024-01-04T14:18:52.551805Z",
     "iopub.status.busy": "2024-01-04T14:18:52.551231Z",
     "iopub.status.idle": "2024-01-04T14:18:52.581206Z",
     "shell.execute_reply": "2024-01-04T14:18:52.580038Z",
     "shell.execute_reply.started": "2024-01-04T14:18:52.551753Z"
    },
    "trusted": true
   },
   "outputs": [
    {
     "data": {
      "text/html": [
       "<div>\n",
       "<style scoped>\n",
       "    .dataframe tbody tr th:only-of-type {\n",
       "        vertical-align: middle;\n",
       "    }\n",
       "\n",
       "    .dataframe tbody tr th {\n",
       "        vertical-align: top;\n",
       "    }\n",
       "\n",
       "    .dataframe thead th {\n",
       "        text-align: right;\n",
       "    }\n",
       "</style>\n",
       "<table border=\"1\" class=\"dataframe\">\n",
       "  <thead>\n",
       "    <tr style=\"text-align: right;\">\n",
       "      <th></th>\n",
       "      <th>Hero</th>\n",
       "      <th>T_Picked</th>\n",
       "      <th>T_Wins</th>\n",
       "      <th>T_Loses</th>\n",
       "      <th>T_WinRate</th>\n",
       "      <th>T_PickPercentage</th>\n",
       "      <th>BS_Picked</th>\n",
       "      <th>BS_Wins</th>\n",
       "      <th>BS_Loses</th>\n",
       "      <th>BS_WinRate</th>\n",
       "      <th>RS_Picked</th>\n",
       "      <th>RS_Wins</th>\n",
       "      <th>RS_Loses</th>\n",
       "      <th>RS_WinRate</th>\n",
       "      <th>T_Banned</th>\n",
       "      <th>T_BansPercentage</th>\n",
       "      <th>T_PicksBans</th>\n",
       "      <th>T_PicksBansPercentage</th>\n",
       "      <th>Roles</th>\n",
       "    </tr>\n",
       "  </thead>\n",
       "  <tbody>\n",
       "    <tr>\n",
       "      <th>0</th>\n",
       "      <td>Valentina</td>\n",
       "      <td>727</td>\n",
       "      <td>334</td>\n",
       "      <td>393</td>\n",
       "      <td>45.94%</td>\n",
       "      <td>52.00%</td>\n",
       "      <td>348</td>\n",
       "      <td>157</td>\n",
       "      <td>191</td>\n",
       "      <td>45.11%</td>\n",
       "      <td>379</td>\n",
       "      <td>177</td>\n",
       "      <td>202</td>\n",
       "      <td>46.70%</td>\n",
       "      <td>484</td>\n",
       "      <td>34.62%</td>\n",
       "      <td>1211</td>\n",
       "      <td>86.62%</td>\n",
       "      <td>Mage</td>\n",
       "    </tr>\n",
       "    <tr>\n",
       "      <th>1</th>\n",
       "      <td>Fredrinn</td>\n",
       "      <td>726</td>\n",
       "      <td>383</td>\n",
       "      <td>343</td>\n",
       "      <td>52.75%</td>\n",
       "      <td>51.93%</td>\n",
       "      <td>361</td>\n",
       "      <td>184</td>\n",
       "      <td>177</td>\n",
       "      <td>50.97%</td>\n",
       "      <td>365</td>\n",
       "      <td>199</td>\n",
       "      <td>166</td>\n",
       "      <td>54.52%</td>\n",
       "      <td>475</td>\n",
       "      <td>33.98%</td>\n",
       "      <td>1201</td>\n",
       "      <td>85.91%</td>\n",
       "      <td>Support</td>\n",
       "    </tr>\n",
       "    <tr>\n",
       "      <th>2</th>\n",
       "      <td>Terizla</td>\n",
       "      <td>620</td>\n",
       "      <td>348</td>\n",
       "      <td>272</td>\n",
       "      <td>56.13%</td>\n",
       "      <td>44.35%</td>\n",
       "      <td>291</td>\n",
       "      <td>168</td>\n",
       "      <td>123</td>\n",
       "      <td>57.73%</td>\n",
       "      <td>329</td>\n",
       "      <td>180</td>\n",
       "      <td>149</td>\n",
       "      <td>54.71%</td>\n",
       "      <td>435</td>\n",
       "      <td>31.12%</td>\n",
       "      <td>1055</td>\n",
       "      <td>75.46%</td>\n",
       "      <td>Fighter</td>\n",
       "    </tr>\n",
       "    <tr>\n",
       "      <th>3</th>\n",
       "      <td>Edith</td>\n",
       "      <td>527</td>\n",
       "      <td>265</td>\n",
       "      <td>262</td>\n",
       "      <td>50.28%</td>\n",
       "      <td>37.70%</td>\n",
       "      <td>258</td>\n",
       "      <td>125</td>\n",
       "      <td>133</td>\n",
       "      <td>48.45%</td>\n",
       "      <td>269</td>\n",
       "      <td>140</td>\n",
       "      <td>129</td>\n",
       "      <td>52.04%</td>\n",
       "      <td>477</td>\n",
       "      <td>34.12%</td>\n",
       "      <td>1004</td>\n",
       "      <td>71.82%</td>\n",
       "      <td>Tank</td>\n",
       "    </tr>\n",
       "    <tr>\n",
       "      <th>4</th>\n",
       "      <td>Irithel</td>\n",
       "      <td>502</td>\n",
       "      <td>255</td>\n",
       "      <td>247</td>\n",
       "      <td>50.80%</td>\n",
       "      <td>35.91%</td>\n",
       "      <td>245</td>\n",
       "      <td>129</td>\n",
       "      <td>116</td>\n",
       "      <td>52.65%</td>\n",
       "      <td>257</td>\n",
       "      <td>126</td>\n",
       "      <td>131</td>\n",
       "      <td>49.03%</td>\n",
       "      <td>208</td>\n",
       "      <td>14.88%</td>\n",
       "      <td>710</td>\n",
       "      <td>50.79%</td>\n",
       "      <td>Marksman</td>\n",
       "    </tr>\n",
       "  </tbody>\n",
       "</table>\n",
       "</div>"
      ],
      "text/plain": [
       "         Hero  T_Picked  T_Wins  T_Loses T_WinRate T_PickPercentage  \\\n",
       "0   Valentina       727     334      393    45.94%           52.00%   \n",
       "1    Fredrinn       726     383      343    52.75%           51.93%   \n",
       "2     Terizla       620     348      272    56.13%           44.35%   \n",
       "3       Edith       527     265      262    50.28%           37.70%   \n",
       "4     Irithel       502     255      247    50.80%           35.91%   \n",
       "\n",
       "   BS_Picked  BS_Wins  BS_Loses BS_WinRate  RS_Picked  RS_Wins  RS_Loses  \\\n",
       "0        348      157       191     45.11%        379      177       202   \n",
       "1        361      184       177     50.97%        365      199       166   \n",
       "2        291      168       123     57.73%        329      180       149   \n",
       "3        258      125       133     48.45%        269      140       129   \n",
       "4        245      129       116     52.65%        257      126       131   \n",
       "\n",
       "  RS_WinRate  T_Banned T_BansPercentage  T_PicksBans T_PicksBansPercentage  \\\n",
       "0     46.70%       484           34.62%         1211                86.62%   \n",
       "1     54.52%       475           33.98%         1201                85.91%   \n",
       "2     54.71%       435           31.12%         1055                75.46%   \n",
       "3     52.04%       477           34.12%         1004                71.82%   \n",
       "4     49.03%       208           14.88%          710                50.79%   \n",
       "\n",
       "      Roles  \n",
       "0      Mage  \n",
       "1   Support  \n",
       "2   Fighter  \n",
       "3      Tank  \n",
       "4  Marksman  "
      ]
     },
     "execution_count": 20,
     "metadata": {},
     "output_type": "execute_result"
    }
   ],
   "source": [
    "df.drop(['Index', 'Played By', 'Played With','Played Vs.'], axis=1,inplace=True)\n",
    "df.head()"
   ]
  },
  {
   "cell_type": "code",
   "execution_count": 21,
   "metadata": {
    "execution": {
     "iopub.execute_input": "2024-01-04T14:18:52.583125Z",
     "iopub.status.busy": "2024-01-04T14:18:52.582696Z",
     "iopub.status.idle": "2024-01-04T14:18:52.598512Z",
     "shell.execute_reply": "2024-01-04T14:18:52.597502Z",
     "shell.execute_reply.started": "2024-01-04T14:18:52.583089Z"
    },
    "trusted": true
   },
   "outputs": [],
   "source": [
    "df['T_WinRate'] = pd.to_numeric(df['T_WinRate'].str.strip('%'), errors='coerce')\n",
    "df['T_PickPercentage'] = pd.to_numeric(df['T_PickPercentage'].str.strip('%'), errors='coerce')\n",
    "df['BS_WinRate'] = pd.to_numeric(df['BS_WinRate'].str.strip('%'), errors='coerce')\n",
    "df['RS_WinRate'] = pd.to_numeric(df['RS_WinRate'].str.strip('%'), errors='coerce')\n",
    "df['T_BansPercentage'] = pd.to_numeric(df['T_BansPercentage'].str.strip('%'), errors='coerce')\n",
    "df['T_PicksBansPercentage'] = pd.to_numeric(df['T_PicksBansPercentage'].str.strip('%'), errors='coerce')"
   ]
  },
  {
   "cell_type": "code",
   "execution_count": 22,
   "metadata": {
    "execution": {
     "iopub.execute_input": "2024-01-04T14:18:52.601373Z",
     "iopub.status.busy": "2024-01-04T14:18:52.600755Z",
     "iopub.status.idle": "2024-01-04T14:18:52.636708Z",
     "shell.execute_reply": "2024-01-04T14:18:52.635187Z",
     "shell.execute_reply.started": "2024-01-04T14:18:52.601321Z"
    },
    "trusted": true
   },
   "outputs": [
    {
     "data": {
      "text/html": [
       "<div>\n",
       "<style scoped>\n",
       "    .dataframe tbody tr th:only-of-type {\n",
       "        vertical-align: middle;\n",
       "    }\n",
       "\n",
       "    .dataframe tbody tr th {\n",
       "        vertical-align: top;\n",
       "    }\n",
       "\n",
       "    .dataframe thead th {\n",
       "        text-align: right;\n",
       "    }\n",
       "</style>\n",
       "<table border=\"1\" class=\"dataframe\">\n",
       "  <thead>\n",
       "    <tr style=\"text-align: right;\">\n",
       "      <th></th>\n",
       "      <th>Hero</th>\n",
       "      <th>T_Picked</th>\n",
       "      <th>T_Wins</th>\n",
       "      <th>T_Loses</th>\n",
       "      <th>T_WinRate</th>\n",
       "      <th>T_PickPercentage</th>\n",
       "      <th>BS_Picked</th>\n",
       "      <th>BS_Wins</th>\n",
       "      <th>BS_Loses</th>\n",
       "      <th>BS_WinRate</th>\n",
       "      <th>RS_Picked</th>\n",
       "      <th>RS_Wins</th>\n",
       "      <th>RS_Loses</th>\n",
       "      <th>RS_WinRate</th>\n",
       "      <th>T_Banned</th>\n",
       "      <th>T_BansPercentage</th>\n",
       "      <th>T_PicksBans</th>\n",
       "      <th>T_PicksBansPercentage</th>\n",
       "      <th>Roles</th>\n",
       "    </tr>\n",
       "  </thead>\n",
       "  <tbody>\n",
       "    <tr>\n",
       "      <th>0</th>\n",
       "      <td>Valentina</td>\n",
       "      <td>727</td>\n",
       "      <td>334</td>\n",
       "      <td>393</td>\n",
       "      <td>45.94</td>\n",
       "      <td>52.00</td>\n",
       "      <td>348</td>\n",
       "      <td>157</td>\n",
       "      <td>191</td>\n",
       "      <td>45.11</td>\n",
       "      <td>379</td>\n",
       "      <td>177</td>\n",
       "      <td>202</td>\n",
       "      <td>46.70</td>\n",
       "      <td>484</td>\n",
       "      <td>34.62</td>\n",
       "      <td>1211</td>\n",
       "      <td>86.62</td>\n",
       "      <td>Mage</td>\n",
       "    </tr>\n",
       "    <tr>\n",
       "      <th>1</th>\n",
       "      <td>Fredrinn</td>\n",
       "      <td>726</td>\n",
       "      <td>383</td>\n",
       "      <td>343</td>\n",
       "      <td>52.75</td>\n",
       "      <td>51.93</td>\n",
       "      <td>361</td>\n",
       "      <td>184</td>\n",
       "      <td>177</td>\n",
       "      <td>50.97</td>\n",
       "      <td>365</td>\n",
       "      <td>199</td>\n",
       "      <td>166</td>\n",
       "      <td>54.52</td>\n",
       "      <td>475</td>\n",
       "      <td>33.98</td>\n",
       "      <td>1201</td>\n",
       "      <td>85.91</td>\n",
       "      <td>Support</td>\n",
       "    </tr>\n",
       "    <tr>\n",
       "      <th>2</th>\n",
       "      <td>Terizla</td>\n",
       "      <td>620</td>\n",
       "      <td>348</td>\n",
       "      <td>272</td>\n",
       "      <td>56.13</td>\n",
       "      <td>44.35</td>\n",
       "      <td>291</td>\n",
       "      <td>168</td>\n",
       "      <td>123</td>\n",
       "      <td>57.73</td>\n",
       "      <td>329</td>\n",
       "      <td>180</td>\n",
       "      <td>149</td>\n",
       "      <td>54.71</td>\n",
       "      <td>435</td>\n",
       "      <td>31.12</td>\n",
       "      <td>1055</td>\n",
       "      <td>75.46</td>\n",
       "      <td>Fighter</td>\n",
       "    </tr>\n",
       "    <tr>\n",
       "      <th>3</th>\n",
       "      <td>Edith</td>\n",
       "      <td>527</td>\n",
       "      <td>265</td>\n",
       "      <td>262</td>\n",
       "      <td>50.28</td>\n",
       "      <td>37.70</td>\n",
       "      <td>258</td>\n",
       "      <td>125</td>\n",
       "      <td>133</td>\n",
       "      <td>48.45</td>\n",
       "      <td>269</td>\n",
       "      <td>140</td>\n",
       "      <td>129</td>\n",
       "      <td>52.04</td>\n",
       "      <td>477</td>\n",
       "      <td>34.12</td>\n",
       "      <td>1004</td>\n",
       "      <td>71.82</td>\n",
       "      <td>Tank</td>\n",
       "    </tr>\n",
       "    <tr>\n",
       "      <th>4</th>\n",
       "      <td>Irithel</td>\n",
       "      <td>502</td>\n",
       "      <td>255</td>\n",
       "      <td>247</td>\n",
       "      <td>50.80</td>\n",
       "      <td>35.91</td>\n",
       "      <td>245</td>\n",
       "      <td>129</td>\n",
       "      <td>116</td>\n",
       "      <td>52.65</td>\n",
       "      <td>257</td>\n",
       "      <td>126</td>\n",
       "      <td>131</td>\n",
       "      <td>49.03</td>\n",
       "      <td>208</td>\n",
       "      <td>14.88</td>\n",
       "      <td>710</td>\n",
       "      <td>50.79</td>\n",
       "      <td>Marksman</td>\n",
       "    </tr>\n",
       "  </tbody>\n",
       "</table>\n",
       "</div>"
      ],
      "text/plain": [
       "         Hero  T_Picked  T_Wins  T_Loses  T_WinRate  T_PickPercentage  \\\n",
       "0   Valentina       727     334      393      45.94             52.00   \n",
       "1    Fredrinn       726     383      343      52.75             51.93   \n",
       "2     Terizla       620     348      272      56.13             44.35   \n",
       "3       Edith       527     265      262      50.28             37.70   \n",
       "4     Irithel       502     255      247      50.80             35.91   \n",
       "\n",
       "   BS_Picked  BS_Wins  BS_Loses  BS_WinRate  RS_Picked  RS_Wins  RS_Loses  \\\n",
       "0        348      157       191       45.11        379      177       202   \n",
       "1        361      184       177       50.97        365      199       166   \n",
       "2        291      168       123       57.73        329      180       149   \n",
       "3        258      125       133       48.45        269      140       129   \n",
       "4        245      129       116       52.65        257      126       131   \n",
       "\n",
       "   RS_WinRate  T_Banned  T_BansPercentage  T_PicksBans  T_PicksBansPercentage  \\\n",
       "0       46.70       484             34.62         1211                  86.62   \n",
       "1       54.52       475             33.98         1201                  85.91   \n",
       "2       54.71       435             31.12         1055                  75.46   \n",
       "3       52.04       477             34.12         1004                  71.82   \n",
       "4       49.03       208             14.88          710                  50.79   \n",
       "\n",
       "      Roles  \n",
       "0      Mage  \n",
       "1   Support  \n",
       "2   Fighter  \n",
       "3      Tank  \n",
       "4  Marksman  "
      ]
     },
     "execution_count": 22,
     "metadata": {},
     "output_type": "execute_result"
    }
   ],
   "source": [
    "df.head()"
   ]
  },
  {
   "cell_type": "markdown",
   "metadata": {},
   "source": [
    "## Exploratory Data Analysis (EDA)"
   ]
  },
  {
   "cell_type": "markdown",
   "metadata": {},
   "source": [
    "### Distribution of Win Rates"
   ]
  },
  {
   "cell_type": "markdown",
   "metadata": {},
   "source": [
    "#### What is the distribution of overall win rates for all heroes?"
   ]
  },
  {
   "cell_type": "code",
   "execution_count": 23,
   "metadata": {
    "execution": {
     "iopub.execute_input": "2024-01-04T14:18:52.639088Z",
     "iopub.status.busy": "2024-01-04T14:18:52.638641Z",
     "iopub.status.idle": "2024-01-04T14:18:52.751733Z",
     "shell.execute_reply": "2024-01-04T14:18:52.750182Z",
     "shell.execute_reply.started": "2024-01-04T14:18:52.63905Z"
    },
    "trusted": true
   },
   "outputs": [],
   "source": [
    "import plotly.io as pio\n",
    "\n",
    "# Atur renderer default\n",
    "pio.renderers.default = \"browser\"  # Membuka grafik di browser\n",
    "\n",
    "# DataFrame yang sudah disortir\n",
    "df_wr = df.sort_values('T_WinRate')\n",
    "\n",
    "# Membuat grafik bar\n",
    "fig = px.bar(\n",
    "    df_wr,\n",
    "    x='Hero',\n",
    "    y='T_WinRate',\n",
    "    color='T_WinRate',\n",
    "    labels={\"T_WinRate\": \"Win Rate\"},\n",
    "    title='The Distribution of Overall Win Rates'\n",
    ")\n",
    "\n",
    "# Menampilkan grafik\n",
    "fig.show()\n"
   ]
  },
  {
   "cell_type": "code",
   "execution_count": 24,
   "metadata": {
    "execution": {
     "iopub.execute_input": "2024-01-04T14:18:52.755424Z",
     "iopub.status.busy": "2024-01-04T14:18:52.754164Z",
     "iopub.status.idle": "2024-01-04T14:18:53.289587Z",
     "shell.execute_reply": "2024-01-04T14:18:53.288729Z",
     "shell.execute_reply.started": "2024-01-04T14:18:52.755371Z"
    },
    "trusted": true
   },
   "outputs": [],
   "source": [
    "fig = px.scatter(df, x='Hero', y='T_WinRate',\n",
    "             title='Win Rate Distribution for Each Hero',\n",
    "             labels={'Hero': 'Heroes', 'T_WinRate': 'Win Rate'},\n",
    "             color='Hero',\n",
    "             color_discrete_sequence=px.colors.qualitative.Set1\n",
    "             )\n",
    "\n",
    "fig.update_layout(xaxis_title='Heroes', yaxis_title='Win Rate')\n",
    "fig.show()"
   ]
  },
  {
   "cell_type": "markdown",
   "metadata": {},
   "source": [
    "#### Are there any outliers in terms of exceptionally high or low win rates?"
   ]
  },
  {
   "cell_type": "code",
   "execution_count": 25,
   "metadata": {
    "execution": {
     "iopub.execute_input": "2024-01-04T14:18:53.291734Z",
     "iopub.status.busy": "2024-01-04T14:18:53.290818Z",
     "iopub.status.idle": "2024-01-04T14:18:53.359454Z",
     "shell.execute_reply": "2024-01-04T14:18:53.358298Z",
     "shell.execute_reply.started": "2024-01-04T14:18:53.291698Z"
    },
    "trusted": true
   },
   "outputs": [],
   "source": [
    "fig = px.box(df, y='T_WinRate', title='Box Plot of Overall Win Rates')\n",
    "fig.update_layout(xaxis_title='Win Rate')\n",
    "fig.show()"
   ]
  },
  {
   "cell_type": "markdown",
   "metadata": {},
   "source": [
    "### Side-based Analysis"
   ]
  },
  {
   "cell_type": "markdown",
   "metadata": {},
   "source": [
    "#### How do win rates vary between Blue Side and Red Side?"
   ]
  },
  {
   "cell_type": "code",
   "execution_count": 26,
   "metadata": {
    "execution": {
     "iopub.execute_input": "2024-01-04T14:18:53.363766Z",
     "iopub.status.busy": "2024-01-04T14:18:53.363272Z",
     "iopub.status.idle": "2024-01-04T14:18:53.455868Z",
     "shell.execute_reply": "2024-01-04T14:18:53.454291Z",
     "shell.execute_reply.started": "2024-01-04T14:18:53.363733Z"
    },
    "trusted": true
   },
   "outputs": [],
   "source": [
    "fig = px.bar(df.sort_values('T_WinRate'), x='Hero', y=['BS_WinRate', 'RS_WinRate'],\n",
    "             title='Win Rates by Side',\n",
    "             labels={'value': 'Win Rate', 'variable': 'Side'},\n",
    "             color_discrete_map={'BS_WinRate': 'blue', 'RS_WinRate': 'red'},\n",
    "             barmode='group')\n",
    "\n",
    "fig.update_layout(xaxis_title='Hero', yaxis_title='Win Rate', legend_title='Side')\n",
    "fig.show()"
   ]
  },
  {
   "cell_type": "markdown",
   "metadata": {},
   "source": [
    "### What is the distribution of hero roles in the dataset?"
   ]
  },
  {
   "cell_type": "code",
   "execution_count": 27,
   "metadata": {
    "execution": {
     "iopub.execute_input": "2024-01-04T14:18:53.457684Z",
     "iopub.status.busy": "2024-01-04T14:18:53.457335Z",
     "iopub.status.idle": "2024-01-04T14:18:53.534239Z",
     "shell.execute_reply": "2024-01-04T14:18:53.533118Z",
     "shell.execute_reply.started": "2024-01-04T14:18:53.457652Z"
    },
    "trusted": true
   },
   "outputs": [],
   "source": [
    "role_counts = df['Roles'].value_counts().reset_index()\n",
    "fig = px.bar(\n",
    "    role_counts,\n",
    "    x='count',\n",
    "    y='Roles',\n",
    "    labels={'count': 'Role', 'Role': 'Count'},\n",
    "    title='Distribution of Hero Roles in the Dataset',\n",
    ")\n",
    "fig.update_layout(\n",
    "    yaxis=dict(title='Count'),\n",
    ")\n",
    "fig.show()"
   ]
  },
  {
   "cell_type": "code",
   "execution_count": 28,
   "metadata": {
    "execution": {
     "iopub.execute_input": "2024-01-04T14:18:53.53588Z",
     "iopub.status.busy": "2024-01-04T14:18:53.535528Z",
     "iopub.status.idle": "2024-01-04T14:18:53.619178Z",
     "shell.execute_reply": "2024-01-04T14:18:53.617968Z",
     "shell.execute_reply.started": "2024-01-04T14:18:53.535849Z"
    },
    "trusted": true
   },
   "outputs": [],
   "source": [
    "fig = px.pie(\n",
    "    role_counts,\n",
    "    names='count',\n",
    "    values='Roles',\n",
    "    title='Distribution of Hero Roles in the Dataset',\n",
    ")\n",
    "fig.show()"
   ]
  },
  {
   "cell_type": "markdown",
   "metadata": {},
   "source": [
    "### Role-wise Performance"
   ]
  },
  {
   "cell_type": "markdown",
   "metadata": {},
   "source": [
    "#### How are the win rates distributed among different hero roles?"
   ]
  },
  {
   "cell_type": "code",
   "execution_count": 29,
   "metadata": {
    "execution": {
     "iopub.execute_input": "2024-01-04T14:18:53.620765Z",
     "iopub.status.busy": "2024-01-04T14:18:53.620429Z",
     "iopub.status.idle": "2024-01-04T14:18:53.709342Z",
     "shell.execute_reply": "2024-01-04T14:18:53.708007Z",
     "shell.execute_reply.started": "2024-01-04T14:18:53.620733Z"
    },
    "trusted": true
   },
   "outputs": [],
   "source": [
    "avg_win_rate_by_role = df.groupby('Roles')['T_WinRate'].mean().reset_index().sort_values(by='T_WinRate')\n",
    "\n",
    "# Create a bar chart\n",
    "fig = px.bar(avg_win_rate_by_role, x='Roles', y='T_WinRate',\n",
    "             title='Average Win Rate by Hero Role',\n",
    "             labels={'Roles': 'Hero Roles', 'T_WinRate': 'Average Win Rate'},\n",
    "             color='T_WinRate',\n",
    "             color_continuous_scale='Viridis')\n",
    "\n",
    "fig.update_layout(xaxis_title='Hero Roles', yaxis_title='Average Win Rate')\n",
    "fig.show()"
   ]
  },
  {
   "cell_type": "markdown",
   "metadata": {},
   "source": [
    "### Correlation between Picks and Wins"
   ]
  },
  {
   "cell_type": "markdown",
   "metadata": {},
   "source": [
    "#### Is there a correlation between the number of times a hero is picked and their overall win rate?"
   ]
  },
  {
   "cell_type": "code",
   "execution_count": 30,
   "metadata": {
    "execution": {
     "iopub.execute_input": "2024-01-04T14:18:53.711503Z",
     "iopub.status.busy": "2024-01-04T14:18:53.711052Z",
     "iopub.status.idle": "2024-01-04T14:18:54.241901Z",
     "shell.execute_reply": "2024-01-04T14:18:54.240692Z",
     "shell.execute_reply.started": "2024-01-04T14:18:53.711459Z"
    },
    "trusted": true
   },
   "outputs": [],
   "source": [
    "fig = px.scatter(df, x='T_Picked', y='T_WinRate',\n",
    "                 title='Correlation between Hero Picks and Win Rates',\n",
    "                 labels={'T_Picked': 'Total Heroes Picked', 'T_WinRate': 'Win Rate'},\n",
    "                 color='Hero',\n",
    "                 color_continuous_scale='Viridis')\n",
    "\n",
    "fig.update_layout(xaxis_title='Total Heroes Picked', yaxis_title='Win Rate')\n",
    "fig.show()"
   ]
  },
  {
   "cell_type": "markdown",
   "metadata": {},
   "source": [
    "### Banning Pattern"
   ]
  },
  {
   "cell_type": "markdown",
   "metadata": {},
   "source": [
    "#### What is the overall ban percentage for each hero?"
   ]
  },
  {
   "cell_type": "code",
   "execution_count": 31,
   "metadata": {
    "execution": {
     "iopub.execute_input": "2024-01-04T14:18:54.2444Z",
     "iopub.status.busy": "2024-01-04T14:18:54.243978Z",
     "iopub.status.idle": "2024-01-04T14:18:54.331801Z",
     "shell.execute_reply": "2024-01-04T14:18:54.33053Z",
     "shell.execute_reply.started": "2024-01-04T14:18:54.244367Z"
    },
    "trusted": true
   },
   "outputs": [],
   "source": [
    "fig = px.bar(df.sort_values(by='T_BansPercentage'), x='Hero', y='T_BansPercentage',\n",
    "             title='Overall Ban Percentage for Each Hero',\n",
    "             labels={'Hero': 'Heroes', 'T_BansPercentage': 'Ban Percentage'},\n",
    "             color='T_BansPercentage',\n",
    "             color_continuous_scale='Viridis')\n",
    "\n",
    "fig.update_layout(xaxis_title='Heroes', yaxis_title='Ban Percentage')\n",
    "fig.show()"
   ]
  },
  {
   "cell_type": "markdown",
   "metadata": {},
   "source": [
    "### Picks and Bans Combined"
   ]
  },
  {
   "cell_type": "markdown",
   "metadata": {},
   "source": [
    "#### How many heroes are frequently picked or banned (high pick and ban percentage)?"
   ]
  },
  {
   "cell_type": "code",
   "execution_count": 32,
   "metadata": {
    "execution": {
     "iopub.execute_input": "2024-01-04T14:18:54.333756Z",
     "iopub.status.busy": "2024-01-04T14:18:54.333153Z",
     "iopub.status.idle": "2024-01-04T14:18:54.422273Z",
     "shell.execute_reply": "2024-01-04T14:18:54.421184Z",
     "shell.execute_reply.started": "2024-01-04T14:18:54.333722Z"
    },
    "trusted": true
   },
   "outputs": [],
   "source": [
    "fig = px.bar(df.sort_values(by='T_PicksBansPercentage'), x='Hero', y='T_PicksBansPercentage',\n",
    "             title='Heroes with High Pick and Ban Percentages',\n",
    "             labels={'Hero': 'Heroes', 'T_PicksBansPercentage': 'Pick and Ban Percentage'},\n",
    "             color='T_PicksBansPercentage',\n",
    "             color_continuous_scale='Viridis')\n",
    "\n",
    "fig.update_layout(xaxis_title='Heroes', yaxis_title='Pick and Ban Percentage')\n",
    "fig.show()"
   ]
  },
  {
   "cell_type": "markdown",
   "metadata": {},
   "source": [
    "### Role-wise Ban Percentage"
   ]
  },
  {
   "cell_type": "markdown",
   "metadata": {},
   "source": [
    "#### Do certain hero roles have a higher ban percentage compared to others?"
   ]
  },
  {
   "cell_type": "code",
   "execution_count": 33,
   "metadata": {
    "execution": {
     "iopub.execute_input": "2024-01-04T14:18:54.423992Z",
     "iopub.status.busy": "2024-01-04T14:18:54.423613Z",
     "iopub.status.idle": "2024-01-04T14:18:54.507352Z",
     "shell.execute_reply": "2024-01-04T14:18:54.506197Z",
     "shell.execute_reply.started": "2024-01-04T14:18:54.423951Z"
    },
    "trusted": true
   },
   "outputs": [],
   "source": [
    "fig = px.bar(df.sort_values(by=\"T_BansPercentage\",ascending=False), x='Roles', y='T_BansPercentage',\n",
    "             title='Ban Percentage by Hero Roles',\n",
    "             labels={'Roles': 'Hero Roles', 'T_BansPercentage': 'Ban Percentage'},\n",
    "             color='T_BansPercentage',\n",
    "             color_continuous_scale='Viridis')\n",
    "\n",
    "fig.show()"
   ]
  },
  {
   "cell_type": "markdown",
   "metadata": {},
   "source": [
    "### Relationship between Picks, Bans, and Wins"
   ]
  },
  {
   "cell_type": "markdown",
   "metadata": {},
   "source": [
    "#### Is there a correlation between the number of picks, bans, and overall win rates for a hero?"
   ]
  },
  {
   "cell_type": "code",
   "execution_count": 34,
   "metadata": {
    "execution": {
     "iopub.execute_input": "2024-01-04T14:18:54.510132Z",
     "iopub.status.busy": "2024-01-04T14:18:54.508868Z",
     "iopub.status.idle": "2024-01-04T14:18:54.629122Z",
     "shell.execute_reply": "2024-01-04T14:18:54.627853Z",
     "shell.execute_reply.started": "2024-01-04T14:18:54.510089Z"
    },
    "trusted": true
   },
   "outputs": [],
   "source": [
    "fig = px.scatter_matrix(df, dimensions=['T_Picked', 'T_Banned', 'T_WinRate'],\n",
    "                        title='Scatter Plot Matrix of Picks, Bans, and Win Rates',\n",
    "                        color='T_WinRate',\n",
    "                        color_continuous_scale='Viridis')\n",
    "\n",
    "fig.show()"
   ]
  },
  {
   "cell_type": "code",
   "execution_count": 39,
   "metadata": {
    "execution": {
     "iopub.execute_input": "2024-01-04T14:18:54.630979Z",
     "iopub.status.busy": "2024-01-04T14:18:54.630516Z",
     "iopub.status.idle": "2024-01-04T14:18:57.186896Z",
     "shell.execute_reply": "2024-01-04T14:18:57.184901Z",
     "shell.execute_reply.started": "2024-01-04T14:18:54.630907Z"
    },
    "trusted": true
   },
   "outputs": [],
   "source": [
    "# Tambahkan renderer jika diperlukan\n",
    "pio.renderers.default = \"browser\"\n",
    "\n",
    "# Scatter plot pertama: Win Rate vs Total Games Played\n",
    "fig = px.scatter(\n",
    "    df, \n",
    "    x='T_Picked', \n",
    "    y='T_WinRate',\n",
    "    title='Win Rate vs. Total Games Played',\n",
    "    labels={'T_Picked': 'Total Games Played', 'T_WinRate': 'Win Rate'},\n",
    "    trendline='ols',  # Add a linear regression trendline\n",
    "    color='T_WinRate',\n",
    "    color_continuous_scale='Viridis'\n",
    ")\n",
    "\n",
    "fig.update_layout(xaxis_title='Total Games Played', yaxis_title='Win Rate')\n",
    "fig.show()\n",
    "\n",
    "# Scatter plot kedua: Ban Percentage vs Total Games Played\n",
    "fig = px.scatter(\n",
    "    df, \n",
    "    x='T_Picked', \n",
    "    y='T_BansPercentage',\n",
    "    title='Ban Percentage vs. Total Games Played',\n",
    "    labels={'T_Picked': 'Total Games Played', 'T_BansPercentage': 'Ban Percentage'},\n",
    "    trendline='ols',  # Add a linear regression trendline\n",
    "    color='T_BansPercentage',\n",
    "    color_continuous_scale='Viridis'\n",
    ")\n",
    "\n",
    "fig.update_layout(xaxis_title='Total Games Played', yaxis_title='Ban Percentage')\n",
    "fig.show()\n"
   ]
  }
 ],
 "metadata": {
  "kaggle": {
   "accelerator": "none",
   "dataSources": [
    {
     "datasetId": 4244640,
     "sourceId": 7330272,
     "sourceType": "datasetVersion"
    }
   ],
   "dockerImageVersionId": 30626,
   "isGpuEnabled": false,
   "isInternetEnabled": false,
   "language": "python",
   "sourceType": "notebook"
  },
  "kernelspec": {
   "display_name": "env",
   "language": "python",
   "name": "python3"
  },
  "language_info": {
   "codemirror_mode": {
    "name": "ipython",
    "version": 3
   },
   "file_extension": ".py",
   "mimetype": "text/x-python",
   "name": "python",
   "nbconvert_exporter": "python",
   "pygments_lexer": "ipython3",
   "version": "3.11.9"
  }
 },
 "nbformat": 4,
 "nbformat_minor": 4
}
